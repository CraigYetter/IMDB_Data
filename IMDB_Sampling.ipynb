{
  "nbformat": 4,
  "nbformat_minor": 0,
  "metadata": {
    "colab": {
      "name": "IMDB_Sampling",
      "provenance": [],
      "collapsed_sections": [],
      "authorship_tag": "ABX9TyPv2VerVTwzrPAjtZNayhyf",
      "include_colab_link": true
    },
    "kernelspec": {
      "name": "python3",
      "display_name": "Python 3"
    },
    "language_info": {
      "name": "python"
    }
  },
  "cells": [
    {
      "cell_type": "markdown",
      "metadata": {
        "id": "view-in-github",
        "colab_type": "text"
      },
      "source": [
        "<a href=\"https://colab.research.google.com/github/CraigYetter/IMDB_Data/blob/main/IMDB_Sampling.ipynb\" target=\"_parent\"><img src=\"https://colab.research.google.com/assets/colab-badge.svg\" alt=\"Open In Colab\"/></a>"
      ]
    },
    {
      "cell_type": "markdown",
      "metadata": {
        "id": "YE15e-D3Xkiw"
      },
      "source": [
        "# Final Project\n",
        "\n",
        "For specifications and information about this project, follow the link below:\n",
        "https://technologyrediscovery.net/data/dat102_finalprojectspecs.html"
      ]
    },
    {
      "cell_type": "markdown",
      "metadata": {
        "id": "StwWYOxjScCG"
      },
      "source": [
        "## Project Design\n",
        "\n",
        "### Single Unit of Analysis\n",
        "\n",
        ">Movie \n",
        "\n",
        "### Inquiry Question\n",
        "\n",
        ">Is there a significant difference between movie length based on genre?  These genres are already determined on the International Movie Database (IMDB) website (imdb.com). \n",
        "\n",
        "### Generate a classification tree\n",
        "\n",
        "- https://drive.google.com/file/d/19G4sU4Fy0CMEetrhK_TOWm2622UKbzbn/view?usp=sharing\n",
        "\n",
        "\n",
        "### Sub-Populations\n",
        "\n",
        ">The two genres that I will be collecting data for is the science-fiction, and comedy genres.  \n",
        "\n",
        "### Define a Variable\n",
        "\n",
        ">I am collecting the following data for each entry:\n",
        "\n",
        "> - Name \n",
        "> - Year released\n",
        "> - Stars (out of 10)\n",
        "> - Length of movie\n",
        "> - Gross Earnings\n",
        "> - Amount of votes from users\n",
        "\n",
        "**Not all of these variables will be utilized during this project, if I were to continue this project, I would look further into each of the attribute data**\n"
      ]
    },
    {
      "cell_type": "markdown",
      "metadata": {
        "id": "kkEx5XZGAGsN"
      },
      "source": [
        "## Create Data Instruments and Procedures\n",
        "\n",
        "### Data Gathering Tool\n",
        "\n",
        "Link to google sheet data:\n",
        "\n",
        "- https://docs.google.com/spreadsheets/d/1VZkEjxS39_VGPvJzzn-7hDY9JFoKDIEWw7-WgTpBhsk/edit?usp=sharing\n",
        "\n",
        "Github Links to csv Data:\n",
        "\n",
        "- https://raw.githubusercontent.com/CraigYetter/IMDB_Data/main/comedy.csv\n",
        "\n",
        "- https://raw.githubusercontent.com/CraigYetter/IMDB_Data/main/scifi.csv\n",
        "\n",
        "#### Data Dictonary\n",
        "\n",
        "{Ranking: Integer, Name: String, Year: Integer, Stars (out of 10): Float, Length (min): Integer, Gross ($ in Million): Float, Votes: Integer}\n",
        "\n",
        ">>Data Dictionary also included on google sheet // link above\n",
        "\n",
        "Possible Values:\n",
        "\n",
        "Comedy Data:\n",
        "\n",
        "- Ranking --> 1 - 1931 \n",
        "\n",
        "- Name --> Name of Movie\n",
        "\n",
        "- Year --> Year that movie was released\n",
        "\n",
        "- Stars --> 1.0 - 10.0 Stars\n",
        "\n",
        "- Length (min) --> Length of movie in minutes\n",
        "\n",
        "- Gross ($ in Million) --> Film grossing in millions\n",
        "\n",
        "- Votes --> Amount of votes from users // users vote and the average determines the stars column\n",
        "\n",
        "Science Fiction Data:\n",
        "\n",
        "- Ranking --> 1 - 771\n",
        "\n",
        "- Name --> Name of Movie\n",
        "\n",
        "- Year --> Year that movie was released\n",
        "\n",
        "- Stars --> 1.0 - 10.0 Stars\n",
        "\n",
        "- Length (min) --> Length of movie in minutes\n",
        "\n",
        "- Gross ($ in Million) --> Film grossing in millions\n",
        "\n",
        "- Votes --> Amount of votes from users // users vote and the average determines the stars column\n",
        "\n",
        "### Sampling Procedure\n",
        "\n",
        "Data was collected through random sampling of movies in the \"Feature Film, Rating Count at least 25,000, {genre} (Sorted by IMDb Rating Descending)\n",
        "\n",
        "I followed the procedure used in the Library Sampling Project, by collecting 30 samples for each sub-population of movies.   The 30 samples were determined by utilizing the random module in python.  The values were determined outside of this notebook, but the code is as follows:\n",
        "\n",
        ">import random\n",
        "\n",
        ">sample_n = 30\n",
        "\n",
        ">scifi_results = 771\n",
        "\n",
        ">scifi_list = []\n",
        "\n",
        ">for i in range(sample_n):\n",
        "\n",
        ">>scifi_list.append(random.randint(1, scifi_results))\n",
        "\n",
        ">print(scifi_list)\n",
        "\n",
        ">This code was repeated for the comedy sub-population.  After these values were gathered and pasted into an excel sheet, I navigated to the IMDb website, and carried out data collection.   \n",
        "\n",
        "### Formulate a hypothesis or set of hypothesis concerning the outcome of the data you are about to gather\n",
        "\n",
        "I believe that movies in the science-fiction genre will generally be longer than movies in the comedy genre.  I believe that science-fiction movies require more exposition to build the world and characters.  Therefore, I believe that these movies will have a statistically significant difference in the duration of the movie.  \n"
      ]
    },
    {
      "cell_type": "markdown",
      "metadata": {
        "id": "DOAj2skfpSfV"
      },
      "source": [
        "## Carry out your study & make claims\n",
        "\n",
        "### Carry out your study: gather your data, record that data digitally in your spreadsheet \n",
        "\n",
        "Link to google sheet data:\n",
        "\n",
        "- https://docs.google.com/spreadsheets/d/1VZkEjxS39_VGPvJzzn-7hDY9JFoKDIEWw7-WgTpBhsk/edit?usp=sharing\n",
        "\n",
        "Github Links to csv Data:\n",
        "\n",
        "- https://raw.githubusercontent.com/CraigYetter/IMDB_Data/main/comedy.csv\n",
        "\n",
        "- https://raw.githubusercontent.com/CraigYetter/IMDB_Data/main/scifi.csv\n",
        "\n",
        "### Carry out basic descriptive statistics on each of your variables of interest: mean, median, mode, quartiles, standard deviation.  Summarize the differences seen across sub-populations using these descriptive statistics\n",
        "\n",
        "The following codeblocks will read in the data and get descriptive statistics for both sub-populations.\n"
      ]
    },
    {
      "cell_type": "code",
      "metadata": {
        "id": "e9xgN_cVnxry"
      },
      "source": [
        "import pandas as pd\n",
        "import matplotlib.pyplot as plt\n",
        "\"\"\" Import pandas into this notebook to read in csv data and analyze it:\n",
        "      For more info about pandas follow this link: https://pandas.pydata.org\n",
        "    Import matplotlib.pyplot module as plt for plotting data \n",
        "\"\"\"\n",
        "\n",
        "df_comedy = pd.read_csv('https://raw.githubusercontent.com/CraigYetter/IMDB_Data/main/comedy.csv')\n",
        "df_scifi = pd.read_csv('https://raw.githubusercontent.com/CraigYetter/IMDB_Data/main/scifi.csv') \n",
        "# use pd.read_csv to read in comedy and scifi movie data that is hosted on github"
      ],
      "execution_count": null,
      "outputs": []
    },
    {
      "cell_type": "code",
      "metadata": {
        "id": "aqKqya1A-8Xs"
      },
      "source": [
        "# Rename Dictionary that will be used for concatenation purposes\n",
        "comedy_rename_dict = {'Ranking':'Ranking_comedy', 'Name': 'Name_comedy', 'Year': 'Year_comedy', 'Stars (out of 10)': 'Stars_comedy',\n",
        "                      'Length (min)': 'Length_comedy', 'Gross ($ in Million)': 'Gross_comedy', 'Votes': 'Votes_comedy'}\n",
        "\n",
        "# Rename Dictionary that will be used for concatenation purposes\n",
        "scifi_rename_dict = {'Ranking':'Ranking_scifi', 'Name': 'Name_scifi', 'Year': 'Year_scifi', 'Stars (out of 10)': 'Stars_scifi',\n",
        "                      'Length (min)': 'Length_scifi', 'Gross ($ in Million)': 'Gross_scifi', 'Votes': 'Votes_scifi'}\n",
        "\n",
        "# Use the rename dictionary to inplace change the dataframe column names\n",
        "df_comedy.rename(columns = comedy_rename_dict, inplace=True) \n",
        "\n",
        "# Use the rename dictionary to inplace change the dataframe column names\n",
        "df_scifi.rename(columns = scifi_rename_dict, inplace=True)\n",
        "\n",
        "# Create list of dataframes\n",
        "frames = [df_comedy, df_scifi] \n",
        "\n",
        "# Concatenated these two dataframes into one dataframe\n",
        "df = pd.concat(frames)"
      ],
      "execution_count": null,
      "outputs": []
    },
    {
      "cell_type": "code",
      "metadata": {
        "colab": {
          "base_uri": "https://localhost:8080/"
        },
        "id": "thRofd-o_PP9",
        "outputId": "e79deea0-2a08-421c-bd5b-3213696e3d1b"
      },
      "source": [
        "comedy_desc = df_comedy['Length_comedy'].describe()\n",
        "scifi_desc = df_scifi['Length_scifi'].describe() \n",
        "\n",
        "''' Use the .describe function on both length columns to get descriptive statistics\n",
        "    These statistics include:\n",
        "      - count -- Number of samples\n",
        "      - mean -- Average \n",
        "      - std -- Standard Deviation\n",
        "      - min -- Minimum value\n",
        "      - 25% -- Quartile 1\n",
        "      - 50% -- Median\n",
        "      - 75% -- Quartile 3\n",
        "      - max -- Maximum value \n",
        "'''\n",
        "print(comedy_desc,'\\n','-'*32, '\\n','-'*32, '\\n', scifi_desc)\n",
        "# Print descriptive statistics for both columns"
      ],
      "execution_count": null,
      "outputs": [
        {
          "output_type": "stream",
          "text": [
            "count     30.000000\n",
            "mean     104.333333\n",
            "std       12.349322\n",
            "min       82.000000\n",
            "25%       93.500000\n",
            "50%      103.500000\n",
            "75%      116.250000\n",
            "max      128.000000\n",
            "Name: Length_comedy, dtype: float64 \n",
            " -------------------------------- \n",
            " -------------------------------- \n",
            " count     30.000000\n",
            "mean     110.633333\n",
            "std       18.214211\n",
            "min       89.000000\n",
            "25%       94.000000\n",
            "50%      109.500000\n",
            "75%      119.000000\n",
            "max      164.000000\n",
            "Name: Length_scifi, dtype: float64\n"
          ],
          "name": "stdout"
        }
      ]
    },
    {
      "cell_type": "markdown",
      "metadata": {
        "id": "rEmTDyWZkm6X"
      },
      "source": [
        "# **Descriptive Statistics**\n",
        "\n",
        ">This text cell has the formatted descriptive statistics that was derived using the code above\n",
        "\n",
        "**Comedy Length Stats**:\n",
        "\n",
        "- *Count* = 30\n",
        "\n",
        "- *Mean* = 104.33 Minutes\n",
        "\n",
        "- *Standard Deviation* = 12.35 Minutes\n",
        "\n",
        "- *Minimum* = 82.00 Minutes\n",
        "\n",
        "- *Q1* = 93.50 Minutes\n",
        "\n",
        "- *Median* = 103.50 Minutes\n",
        "\n",
        "- *Q3* = 116.25 Minutes\n",
        "\n",
        "- *Max* = 128.00\n",
        "\n",
        "**Sci-Fi Length Stats**:\n",
        "\n",
        "- *Count* = 30\n",
        "\n",
        "- *Mean* = 110.63 Minutes\n",
        "\n",
        "- *Standard Deviation* =  18.21 Minutes\n",
        "\n",
        "- *Minimum* = 89.00 Minutes\n",
        "\n",
        "- *Q1* = 94.00 Minutes\n",
        "\n",
        "- *Median* = 109.50 Minutes\n",
        "\n",
        "- *Q3* = 119.00 Minutes\n",
        "\n",
        "- *Max* = 164.00 Minutes\n",
        "\n",
        "### **Summary of difference seen across sub-populations using these descriptive statistics.**\n",
        "\n",
        "> The sample data suggests that science-fiction movies are longer on average than movies in the comedy genre.  The sci-fi mean is 110.63 minutes, while the comedy mean is 104.33 minutes.  This is a difference of 6.3 minutes between the two means.   \n",
        "\n",
        "> The median for Sci-Fi length is 109.50 minutes, while the median for the Comedy genre is 103.50 minutes.  There is a difference of 6.00 minutes between these two medians.  The median and mean are similar for both genres, which indicates that both sample datasets have a close to symmetrical distribution.  Since both means are to the right of the median, they would be considered right-skewed.    \n",
        "\n",
        "> The standard deviation of the science-fiction sub-population data is larger than the standard deviation for the comedy sub-population data.  This indicates that the science-fiction data is more spread out than the comedy sub-population.  \n",
        "\n"
      ]
    },
    {
      "cell_type": "markdown",
      "metadata": {
        "id": "adnxQE4i_dg0"
      },
      "source": [
        "## Generate compelling visualizations describing your results: box-and-whisker charts, neat hand-drawn figures, etc.  \n",
        "\n",
        "## Box and Whisker Plots\n",
        "Using pandas to plot the dataframes into a box and whisker plot.  \n",
        "\n",
        "These length columns are used to create a boxplot (box and whisker plot) with the length variables.  The resulting plot is useful in comparing variation.  \n",
        "\n",
        "For pandas documentation visit - https://pandas.pydata.org/docs/"
      ]
    },
    {
      "cell_type": "code",
      "metadata": {
        "colab": {
          "base_uri": "https://localhost:8080/",
          "height": 281
        },
        "id": "Hnxr9Cgc_R1x",
        "outputId": "34c52e62-9e86-4015-c890-47fa1d821d58"
      },
      "source": [
        "print(df.boxplot(column = ['Length_comedy', 'Length_scifi'], vert=False))\n",
        "# Print boxplot of the two length columns.  vert=False, shows the box-and-whisker \n",
        "# plot horizontally, I found that to be a more readable visualization of the data"
      ],
      "execution_count": 22,
      "outputs": [
        {
          "output_type": "stream",
          "text": [
            "AxesSubplot(0.125,0.125;0.775x0.755)\n"
          ],
          "name": "stdout"
        },
        {
          "output_type": "display_data",
          "data": {
            "image/png": "[encoded data removed]",
            "text/plain": [
              "<Figure size 432x288 with 1 Axes>"
            ]
          },
          "metadata": {
            "tags": [],
            "needs_background": "light"
          }
        }
      ]
    },
    {
      "cell_type": "markdown",
      "metadata": {
        "id": "8DcPlIJOpPs2"
      },
      "source": [
        "### Box-and-Whisker Plot Analysis\n",
        "\n",
        "The length of science-fiction movies has more variation among members of the sample data.  The box of the comedy genre plot sub-population is almost entirely contained within the science-fiction box.  The IQR portion for the comedy genre is 93.50 - 116.25 minutes.  The IQR for the science-fiction sub-population is 94.00 - 119.00 Minutes.  There is only a 0.5 minute portion where the comedy genre does not overlap the science-fiction IQR.  \n",
        "\n",
        "There is only one outlier that shows up for the science-fiction sample data.  \n",
        "> This outlier was \"Blade Runner 2049\" with a runtime of 164 minutes.  "
      ]
    },
    {
      "cell_type": "markdown",
      "metadata": {
        "id": "BgFBXSzaA-wA"
      },
      "source": [
        "### Histogram Plots"
      ]
    },
    {
      "cell_type": "code",
      "metadata": {
        "colab": {
          "base_uri": "https://localhost:8080/",
          "height": 545
        },
        "id": "ucsY71jf_eW8",
        "outputId": "bae280f5-8472-4dd1-e419-f26c61bf8f44"
      },
      "source": [
        "# List of the bins that will be used for both histograms \n",
        "#    80-90 // 90-100 // 100-110 // 110-120 // 120-130 \n",
        "#    // 130-140 // 140-150 // 150-160 // 160-170\n",
        "bins_list = [80, 90, 100, 110, 120, 130, 140, 150, 160, 170]\n",
        "\n",
        "\n",
        "# the histograms are created using the length columns\n",
        "# bins = bins_list set bins to the list created above\n",
        "# ec = edgecolor // histtype = bar // \n",
        "# the grid was set to false because I found it to be more readable\n",
        "scifi_hist = df.hist('Length_scifi', bins=bins_list, ec='black', histtype='bar', facecolor='DarkSlateBlue', grid=False)\n",
        "comedy_hist = df.hist(column='Length_comedy', bins=bins_list, ec='black', histtype='bar', facecolor='DarkSlateBlue', grid=False)\n"
      ],
      "execution_count": 28,
      "outputs": [
        {
          "output_type": "display_data",
          "data": {
            "image/png": "[encoded data removed]",
            "text/plain": [
              "<Figure size 432x288 with 1 Axes>"
            ]
          },
          "metadata": {
            "tags": [],
            "needs_background": "light"
          }
        },
        {
          "output_type": "display_data",
          "data": {
            "image/png": "[encoded data removed]",
            "text/plain": [
              "<Figure size 432x288 with 1 Axes>"
            ]
          },
          "metadata": {
            "tags": [],
            "needs_background": "light"
          }
        }
      ]
    },
    {
      "cell_type": "markdown",
      "metadata": {
        "id": "YbHyXeHU82KK"
      },
      "source": [
        "### Histogram Analysis\n",
        "\n",
        "The sci-fi histogram above shows that the sci-fi data is bi-modal.  The bins where data seems to cluster is in the 90-100 minutes and 110-120 minutes bin.\n",
        "\n",
        "The comedy histogram above shows that the comedy data is right-skewed.  This is also apparent in the descriptive statistics where the mean is to the right of the median, which is present in datasets that are skewed to the right.  \n"
      ]
    },
    {
      "cell_type": "markdown",
      "metadata": {
        "id": "YOcIyO09JUEy"
      },
      "source": [
        "## Confidence Intervals using StatKey\n",
        "\n",
        "The following images were gathered utilizing the StatKey tool from lock5stat.com\n",
        "\n",
        "#### Science-Fiction 95% Confidence Interval\n",
        "\n",
        "Lower bound = 101.800\n",
        "\n",
        "Upper Bound = 199.900\n",
        "\n",
        "![picture](https://drive.google.com/uc?export=view&id=19O8kh-tEBLADqdMuQVKH4F7C-oFnfvdd)\n",
        "\n",
        "\n",
        "#### Comedy 95% Confidence Interval\n",
        "\n",
        "Lower bound = 98.100 minutes\n",
        "\n",
        "Upper bound = 110.600 minutes\n",
        "\n",
        "![picture](https://drive.google.com/uc?export=view&id=1u1vjIQTYaVkQoSXSKUivtb6REqCCd2Eo)\n",
        "\n",
        "\n",
        "#### Analysis of 95% Confidence Intervals\n",
        "\n",
        "The overlapping nature of the confidence intervals through the Bootstrap method shows that there is no statistically significant difference between the two sub-populations.  \n",
        "\n"
      ]
    },
    {
      "cell_type": "markdown",
      "metadata": {
        "id": "yjGDmYujO7fa"
      },
      "source": [
        "## Extract data-backed claims that relate to your chosen inquiry question using your gathered data // Documentation and Sharing\n",
        "\n",
        "The data shows that there is not a statistically significant difference between the two sub-populations.  I would suggest gathering more sample data for each sub-population from IMDb.  \n",
        "\n",
        "Likely sources of bias in the sample data:\n",
        "\n",
        ">Data was collected from only movies that had more than 25,000 ratings on IMDb.  Perhaps, the movies that meet this criteria are not representative of the actual population.  \n",
        "\n",
        "Revisions you would suggest making to the study\n",
        "\n",
        ">I would try to take data from the entire population and not those that had more than 25,000 ratings.  I would look at different data besides length, as this is not the most exciting statistic about movie genres.  \n"
      ]
    },
    {
      "cell_type": "markdown",
      "metadata": {
        "id": "PC8ozTpiPUZB"
      },
      "source": [
        "# ------------------------------------------------------------------------------------------------------\n",
        "\n",
        "# Other analysis that is not fully fleshed out"
      ]
    },
    {
      "cell_type": "markdown",
      "metadata": {
        "id": "5TS_Ni1xFr-Z"
      },
      "source": [
        "### Scatter Plots\n",
        "\n",
        "Scatter plot to see the relationship between length (minutes) and user ratings (stars out of 10)\n",
        "\n",
        "Attempt to plot regression using the sklearn module\n"
      ]
    },
    {
      "cell_type": "code",
      "metadata": {
        "colab": {
          "base_uri": "https://localhost:8080/",
          "height": 317
        },
        "id": "5mCPTVdvHHL-",
        "outputId": "a9d03aeb-a660-433a-83c8-6b5eef8f29e0"
      },
      "source": [
        "from sklearn.linear_model import LinearRegression\n",
        "linear_regressor = LinearRegression()\n",
        "x = df_comedy['Length_comedy'].values.reshape(-1,1) \n",
        "y = df_comedy['Stars_comedy'].values.reshape(-1,1)\n",
        "linear_regressor.fit(x, y)\n",
        "y_pred = linear_regressor.predict(x)\n",
        "\n",
        "plt.scatter(x, y)\n",
        "plt.plot(x, y_pred, color='red')\n",
        "plt.show()\n",
        "\n",
        "print(linear_regressor.score(x,y))\n",
        "print(linear_regressor.intercept_)\n",
        "print(linear_regressor.coef_)"
      ],
      "execution_count": null,
      "outputs": [
        {
          "output_type": "display_data",
          "data": {
            "image/png": "[encoded data removed]",
            "text/plain": [
              "<Figure size 432x288 with 1 Axes>"
            ]
          },
          "metadata": {
            "tags": [],
            "needs_background": "light"
          }
        },
        {
          "output_type": "stream",
          "text": [
            "0.15732754194039067\n",
            "[4.42150437]\n",
            "[[0.02270124]]\n"
          ],
          "name": "stdout"
        }
      ]
    },
    {
      "cell_type": "code",
      "metadata": {
        "colab": {
          "base_uri": "https://localhost:8080/",
          "height": 316
        },
        "id": "aQc3czLPJpA2",
        "outputId": "9ce7a30a-a57a-4975-cae0-1ee960598d08"
      },
      "source": [
        "linear_regressor = LinearRegression()\n",
        "x = df_scifi['Length_scifi'].values.reshape(-1,1) \n",
        "y = df_scifi['Stars_scifi'].values.reshape(-1,1)\n",
        "linear_regressor.fit(x, y)\n",
        "y_pred = linear_regressor.predict(x)\n",
        "\n",
        "plt.scatter(x, y)\n",
        "plt.plot(x, y_pred, color='red')\n",
        "plt.show()\n",
        "\n",
        "print(linear_regressor.score(x,y))\n",
        "print(linear_regressor.intercept_)\n",
        "print(linear_regressor.coef_)"
      ],
      "execution_count": null,
      "outputs": [
        {
          "output_type": "display_data",
          "data": {
            "image/png": "[encoded data removed]",
            "text/plain": [
              "<Figure size 432x288 with 1 Axes>"
            ]
          },
          "metadata": {
            "tags": [],
            "needs_background": "light"
          }
        },
        {
          "output_type": "stream",
          "text": [
            "0.09609348124940531\n",
            "[4.33443798]\n",
            "[[0.02029734]]\n"
          ],
          "name": "stdout"
        }
      ]
    },
    {
      "cell_type": "code",
      "metadata": {
        "id": "gsvws1IYK90l"
      },
      "source": [
        ""
      ],
      "execution_count": null,
      "outputs": []
    }
  ]
}